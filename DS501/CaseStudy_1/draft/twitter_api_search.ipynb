{
 "cells": [
  {
   "cell_type": "code",
   "execution_count": 1,
   "metadata": {
    "collapsed": false
   },
   "outputs": [
    {
     "name": "stdout",
     "output_type": "stream",
     "text": [
      "<tweepy.api.API object at 0x00000000049D8198>\n",
      "Start Date: 2016-02-01\n",
      "End Date: 2016-02-02\n",
      "fetched_tweetCount : 100\n",
      "fetched_tweetCount : 200\n",
      "fetched_tweetCount : 300\n"
     ]
    },
    {
     "ename": "NameError",
     "evalue": "global name 'time' is not defined",
     "output_type": "error",
     "traceback": [
      "\u001b[1;31m---------------------------------------------------------------------------\u001b[0m",
      "\u001b[1;31mNameError\u001b[0m                                 Traceback (most recent call last)",
      "\u001b[1;32m<ipython-input-1-9d9120dcfba2>\u001b[0m in \u001b[0;36m<module>\u001b[1;34m()\u001b[0m\n\u001b[0;32m    103\u001b[0m \u001b[1;33m\u001b[0m\u001b[0m\n\u001b[0;32m    104\u001b[0m \u001b[1;33m\u001b[0m\u001b[0m\n\u001b[1;32m--> 105\u001b[1;33m \u001b[0msearch_tweet\u001b[0m\u001b[1;33m(\u001b[0m\u001b[1;33m)\u001b[0m\u001b[1;33m\u001b[0m\u001b[0m\n\u001b[0m\u001b[0;32m    106\u001b[0m \u001b[1;32mprint\u001b[0m \u001b[1;33m(\u001b[0m\u001b[1;34m\"Total tweets {0}\"\u001b[0m\u001b[1;33m.\u001b[0m\u001b[0mformat\u001b[0m\u001b[1;33m(\u001b[0m\u001b[0mfetched_tweetCount\u001b[0m\u001b[1;33m)\u001b[0m\u001b[1;33m)\u001b[0m\u001b[1;33m\u001b[0m\u001b[0m\n",
      "\u001b[1;32m<ipython-input-1-9d9120dcfba2>\u001b[0m in \u001b[0;36msearch_tweet\u001b[1;34m()\u001b[0m\n\u001b[0;32m     90\u001b[0m                     \u001b[0mmax_id\u001b[0m \u001b[1;33m=\u001b[0m \u001b[0mnew_tweets\u001b[0m\u001b[1;33m[\u001b[0m\u001b[1;33m-\u001b[0m\u001b[1;36m1\u001b[0m\u001b[1;33m]\u001b[0m\u001b[1;33m.\u001b[0m\u001b[0mid\u001b[0m\u001b[1;33m\u001b[0m\u001b[0m\n\u001b[0;32m     91\u001b[0m                 \u001b[1;32mexcept\u001b[0m\u001b[1;33m:\u001b[0m\u001b[1;33m\u001b[0m\u001b[0m\n\u001b[1;32m---> 92\u001b[1;33m                     \u001b[0mtime\u001b[0m\u001b[1;33m.\u001b[0m\u001b[0msleep\u001b[0m\u001b[1;33m(\u001b[0m\u001b[1;36m15\u001b[0m\u001b[1;33m*\u001b[0m\u001b[1;36m60\u001b[0m\u001b[1;33m)\u001b[0m\u001b[1;33m\u001b[0m\u001b[0m\n\u001b[0m\u001b[0;32m     93\u001b[0m                     \u001b[1;32mprint\u001b[0m \u001b[1;34m'We got a timeout ... Sleeping for 15 minutes'\u001b[0m\u001b[1;33m\u001b[0m\u001b[0m\n\u001b[0;32m     94\u001b[0m                     \u001b[0mnew_tweets\u001b[0m \u001b[1;33m=\u001b[0m \u001b[0mapi\u001b[0m\u001b[1;33m.\u001b[0m\u001b[0msearch\u001b[0m\u001b[1;33m(\u001b[0m\u001b[0mq\u001b[0m\u001b[1;33m=\u001b[0m\u001b[0msearchQuery\u001b[0m\u001b[1;33m,\u001b[0m \u001b[0mcount\u001b[0m\u001b[1;33m=\u001b[0m\u001b[0mtweetlimit\u001b[0m\u001b[1;33m,\u001b[0m \u001b[0msince\u001b[0m\u001b[1;33m=\u001b[0m\u001b[0msinceId\u001b[0m\u001b[1;33m,\u001b[0m \u001b[0muntil\u001b[0m \u001b[1;33m=\u001b[0m \u001b[0muntiL\u001b[0m\u001b[1;33m)\u001b[0m\u001b[1;33m\u001b[0m\u001b[0m\n",
      "\u001b[1;31mNameError\u001b[0m: global name 'time' is not defined"
     ]
    }
   ],
   "source": [
    "import sys\n",
    "import jsonpickle\n",
    "import os\n",
    "from tweepy import OAuthHandler\n",
    "import tweepy\n",
    "import io\n",
    "def oauth_me():    \n",
    "    CONSUMER_KEY = 'Y8PpyLf5UW0LSCdwTXHXI8Ypn'\n",
    "    CONSUMER_SECRET ='BppAOhd8pLJxchOufdS3TTcv3F4CZptnUUHLtW65vsjv7oaJdl'\n",
    "    OAUTH_TOKEN = '276846978-P2rWU1Dqthv3IRIP3sspbVCyhdmVrVrYqYVuqE1R'\n",
    "    OAUTH_TOKEN_SECRET = 'ToLp2UEfMDIa9U8Z96g7wwjgS0bno1TxZhE8bpuitCO99'\n",
    "\n",
    "    \n",
    "    #OAuth with tweepy wrappers.\n",
    "    auth = OAuthHandler(CONSUMER_KEY, CONSUMER_SECRET)\n",
    "    auth.set_access_token(OAUTH_TOKEN, OAUTH_TOKEN_SECRET)\n",
    "    \n",
    "    # Construct the API instance\n",
    "    api = tweepy.API(auth, wait_on_rate_limit=True, wait_on_rate_limit_notify=True)\n",
    "    print api\n",
    "    return api\n",
    "\n",
    "\n",
    "searchQuery = 'RIP'  # \n",
    "maxTweets = 250000 # \n",
    "tweetlimit = 100  # \n",
    "fName = 'RIP.json' # \n",
    "sinceId = \"2015-08-05\"\n",
    "untiL = \"2016-02-06\"\n",
    "\n",
    "def write_to_json(new_tweets):\n",
    "    with open(fName, 'a') as datafile:\n",
    "        for tweet in new_tweets:\n",
    "            datafile.write(jsonpickle.encode(tweet._json, unpicklable=False) + '\\n')\n",
    "\n",
    "fetched_tweetCount=0\n",
    "def search_tweet():\n",
    "    fetched_tweetCount = 0\n",
    "    api = oauth_me()\n",
    "    while fetched_tweetCount < maxTweets:\n",
    "        try:\n",
    "            new_tweets = api.search(q=searchQuery, count=tweetlimit, since_id=sinceId, until = untiL)\n",
    "            if not new_tweets:\n",
    "                print \"No more tweets found\" \n",
    "                break\n",
    "            write_to_json(new_tweets)\n",
    "            fetched_tweetCount += len(new_tweets)\n",
    "            print \"fetched_tweetCount : {0}\".format(fetched_tweetCount)\n",
    "            max_id = new_tweets[-1].id\n",
    "        except tweepy.TweepError as e:\n",
    "            # Just exit if any error\n",
    "            print \"ERROR - \" + str(e)\n",
    "            break\n",
    "\n",
    "\n",
    "search_tweet()\n",
    "print (\"Total tweets {0}\".format(fetched_tweetCount))"
   ]
  },
  {
   "cell_type": "code",
   "execution_count": null,
   "metadata": {
    "collapsed": true
   },
   "outputs": [],
   "source": []
  },
  {
   "cell_type": "code",
   "execution_count": null,
   "metadata": {
    "collapsed": true
   },
   "outputs": [],
   "source": []
  },
  {
   "cell_type": "code",
   "execution_count": null,
   "metadata": {
    "collapsed": true
   },
   "outputs": [],
   "source": []
  }
 ],
 "metadata": {
  "kernelspec": {
   "display_name": "Python 2",
   "language": "python",
   "name": "python2"
  },
  "language_info": {
   "codemirror_mode": {
    "name": "ipython",
    "version": 2
   },
   "file_extension": ".py",
   "mimetype": "text/x-python",
   "name": "python",
   "nbconvert_exporter": "python",
   "pygments_lexer": "ipython2",
   "version": "2.7.10"
  }
 },
 "nbformat": 4,
 "nbformat_minor": 0
}
