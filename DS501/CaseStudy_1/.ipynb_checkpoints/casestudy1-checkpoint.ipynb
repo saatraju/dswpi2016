{
 "cells": [
  {
   "cell_type": "markdown",
   "metadata": {},
   "source": [
    "#Case Study 1 : Collecting Data from Twitter\n",
    "\n",
    "** Due Date: February 10, before the class**\n",
    "\n",
    "*------------"
   ]
  },
  {
   "cell_type": "markdown",
   "metadata": {},
   "source": [
    "**TEAM Members:** Please EDIT this cell and add the names of all the team members in your team\n",
    "\n",
    "    member 1\n",
    "    \n",
    "    member 2\n",
    "    \n",
    "    ..."
   ]
  },
  {
   "cell_type": "markdown",
   "metadata": {},
   "source": [
    "**Required Readings:** \n",
    "* Chapter 1 and Chapter 9 of the book [Mining the Social Web](http://www.learndatasci.com/wp-content/uploads/2015/08/Mining-the-Social-Web-2nd-Edition.pdf) \n",
    "* The codes for [Chapter 1](http://bit.ly/1qCtMrr) and [Chapter 9](http://bit.ly/1u7eP33)\n",
    "\n",
    "\n",
    "** NOTE **\n",
    "* Please don't forget to save the notebook frequently when working in IPython Notebook, otherwise the changes you made can be lost.\n",
    "\n",
    "*----------------------"
   ]
  },
  {
   "cell_type": "markdown",
   "metadata": {},
   "source": [
    "#Problem 1: Sampling Twitter Data with Streaming API about a certain topic"
   ]
  },
  {
   "cell_type": "markdown",
   "metadata": {},
   "source": [
    "* Select a topic that you are interested in, for example, \"WPI\" or \"Lady Gaga\"\n",
    "* Use Twitter Streaming API to sample a collection of tweets about this topic in real time. (It would be recommended that the number of tweets should be larger than 200, but smaller than 1 million.\n",
    "* Store the tweets you downloaded into a local file (txt file or json file) "
   ]
  },
  {
   "cell_type": "code",
   "execution_count": 38,
   "metadata": {
    "collapsed": false
   },
   "outputs": [
    {
     "name": "stdout",
     "output_type": "stream",
     "text": [
      "<twitter.api.Twitter object at 0x00000000048FED30>\n",
      "<tweepy.api.API object at 0x0000000004900080>\n"
     ]
    }
   ],
   "source": [
    "import twitter\n",
    "import tweepy\n",
    "import time\n",
    "#---------------------------------------------\n",
    "# Go to http://dev.twitter.com/apps/new to create an app and get values\n",
    "# for these credentials, which you'll need to provide in place of these\n",
    "# empty string values that are defined as placeholders.\n",
    "# See https://dev.twitter.com/docs/auth/oauth for more information \n",
    "# on Twitter's OAuth implementation.\n",
    "\n",
    "CONSUMER_KEY = 'PzE1asPMN71QRQqROIu9di2kJ'\n",
    "CONSUMER_SECRET ='IZuFT9vW1Uff3vz40pWTwJGF2MhtXl61VqXFLPBAuEKEo1DFrr'\n",
    "OAUTH_TOKEN = '4864989053-la2b03uVgembzZWMTf7HoPu8Sqg6GGitQ2nwfG1'\n",
    "OAUTH_TOKEN_SECRET = 'ovBF3RsMQdB7abCZMPXtbS8VR9rb2HJ83ghw2kWkfacuZ'\n",
    "\n",
    "auth = twitter.oauth.OAuth(OAUTH_TOKEN, OAUTH_TOKEN_SECRET,\n",
    "                           CONSUMER_KEY, CONSUMER_SECRET)\n",
    "\n",
    "twitter_api = twitter.Twitter(auth=auth)\n",
    "\n",
    "# Nothing to see by displaying twitter_api except that it's now a\n",
    "# defined variable\n",
    "\n",
    "print twitter_api\n",
    "\n",
    "auth = tweepy.auth.OAuthHandler(CONSUMER_KEY, CONSUMER_SECRET)\n",
    "auth.set_access_token(OAUTH_TOKEN, OAUTH_TOKEN_SECRET)\n",
    "api = tweepy.API(auth)\n",
    "\n",
    "print api\n",
    "\n",
    "\n",
    "\n",
    "\n",
    "\n",
    "\n",
    "\n",
    "\n",
    "\n",
    "\n",
    "\n"
   ]
  },
  {
   "cell_type": "code",
   "execution_count": 71,
   "metadata": {
    "collapsed": false
   },
   "outputs": [
    {
     "name": "stdout",
     "output_type": "stream",
     "text": [
      "We sucessfully logged in\n",
      "VolpeJacob\n",
      "\n",
      "HeroicPap\n",
      "\n",
      "NiadaDalton\n",
      "\n",
      "1930Oo\n",
      "\n",
      "JosneidyH\n",
      "\n",
      "bricksidex\n",
      "\n",
      "JohnCPhillips13\n",
      "\n",
      "preethisadasiv\n",
      "\n",
      "Sphynx24\n",
      "\n"
     ]
    }
   ],
   "source": [
    "\n",
    "list= open('C:\\Users\\IBM_ADMIN\\Desktop\\list.txt','w')\n",
    "if(api.verify_credentials):\n",
    "    print 'We sucessfully logged in'\n",
    "\n",
    "user = tweepy.Cursor(api.followers, screen_name=\"Starbucks\").items(100)\n",
    "\n",
    "#while True:\n",
    "count=0\n",
    "while (count < 100): \n",
    "        u = next(user)\n",
    "        if u.geo_enabled:\n",
    "            print u.screen_name + \"\\n\"\n",
    "        count = count + 1\n",
    "list.close()\n"
   ]
  },
  {
   "cell_type": "code",
   "execution_count": 30,
   "metadata": {
    "collapsed": false
   },
   "outputs": [
    {
     "name": "stdout",
     "output_type": "stream",
     "text": [
      "[{u'created_at': u'2016-02-01T01:24:49Z', u'trends': [{u'url': u'http://twitter.com/search?q=%23GreaseLive', u'query': u'%23GreaseLive', u'tweet_volume': 332854, u'name': u'#GreaseLive', u'promoted_content': None}, {u'url': u'http://twitter.com/search?q=%23HappyBirthdayHarryStyles', u'query': u'%23HappyBirthdayHarryStyles', u'tweet_volume': 460555, u'name': u'#HappyBirthdayHarryStyles', u'promoted_content': None}, {u'url': u'http://twitter.com/search?q=%23PanicoNaBand', u'query': u'%23PanicoNaBand', u'tweet_volume': 65938, u'name': u'#PanicoNaBand', u'promoted_content': None}, {u'url': u'http://twitter.com/search?q=%23NHLAllStar', u'query': u'%23NHLAllStar', u'tweet_volume': 220357, u'name': u'#NHLAllStar', u'promoted_content': None}, {u'url': u'http://twitter.com/search?q=%23caosnoprobowl', u'query': u'%23caosnoprobowl', u'tweet_volume': 16063, u'name': u'#caosnoprobowl', u'promoted_content': None}, {u'url': u'http://twitter.com/search?q=%22Calvin+Johnson%22', u'query': u'%22Calvin+Johnson%22', u'tweet_volume': 110847, u'name': u'Calvin Johnson', u'promoted_content': None}, {u'url': u'http://twitter.com/search?q=%22OS+WALKERS+VOLTAR%C3%83O+A+ANDAR%22', u'query': u'%22OS+WALKERS+VOLTAR%C3%83O+A+ANDAR%22', u'tweet_volume': 27124, u'name': u'OS WALKERS VOLTAR\\xc3O A ANDAR', u'promoted_content': None}, {u'url': u'http://twitter.com/search?q=%22SOMOS+TODOS+JULIANA+DIAS%22', u'query': u'%22SOMOS+TODOS+JULIANA+DIAS%22', u'tweet_volume': 19202, u'name': u'SOMOS TODOS JULIANA DIAS', u'promoted_content': None}, {u'url': u'http://twitter.com/search?q=%22Derek+Carr%22', u'query': u'%22Derek+Carr%22', u'tweet_volume': None, u'name': u'Derek Carr', u'promoted_content': None}, {u'url': u'http://twitter.com/search?q=%22CW+Change+The+Originals+Day%22', u'query': u'%22CW+Change+The+Originals+Day%22', u'tweet_volume': None, u'name': u'CW Change The Originals Day', u'promoted_content': None}, {u'url': u'http://twitter.com/search?q=%22SLFL+Tour+In+Brazil%22', u'query': u'%22SLFL+Tour+In+Brazil%22', u'tweet_volume': 20223, u'name': u'SLFL Tour In Brazil', u'promoted_content': None}, {u'url': u'http://twitter.com/search?q=%23Los90Bis', u'query': u'%23Los90Bis', u'tweet_volume': 43100, u'name': u'#Los90Bis', u'promoted_content': None}, {u'url': u'http://twitter.com/search?q=%23%D9%84%D9%88_%D8%A7%D9%84%D8%B3%D8%B9%D8%A7%D8%AF%D9%87_%D8%A8%D9%8A%D8%AF%D9%83_%D8%AA%D9%87%D8%AF%D9%8A%D9%87%D8%A7_%D9%84%D9%85%D9%8A%D9%86', u'query': u'%23%D9%84%D9%88_%D8%A7%D9%84%D8%B3%D8%B9%D8%A7%D8%AF%D9%87_%D8%A8%D9%8A%D8%AF%D9%83_%D8%AA%D9%87%D8%AF%D9%8A%D9%87%D8%A7_%D9%84%D9%85%D9%8A%D9%86', u'tweet_volume': None, u'name': u'#\\u0644\\u0648_\\u0627\\u0644\\u0633\\u0639\\u0627\\u062f\\u0647_\\u0628\\u064a\\u062f\\u0643_\\u062a\\u0647\\u062f\\u064a\\u0647\\u0627_\\u0644\\u0645\\u064a\\u0646', u'promoted_content': None}, {u'url': u'http://twitter.com/search?q=%23DBT4GHVIP', u'query': u'%23DBT4GHVIP', u'tweet_volume': 49824, u'name': u'#DBT4GHVIP', u'promoted_content': None}, {u'url': u'http://twitter.com/search?q=%23CelebrationofGospel', u'query': u'%23CelebrationofGospel', u'tweet_volume': None, u'name': u'#CelebrationofGospel', u'promoted_content': None}, {u'url': u'http://twitter.com/search?q=%23VzlaSinComida', u'query': u'%23VzlaSinComida', u'tweet_volume': 42486, u'name': u'#VzlaSinComida', u'promoted_content': None}, {u'url': u'http://twitter.com/search?q=%23CrawfordCollinsSorryRemix', u'query': u'%23CrawfordCollinsSorryRemix', u'tweet_volume': 18021, u'name': u'#CrawfordCollinsSorryRemix', u'promoted_content': None}, {u'url': u'http://twitter.com/search?q=%23mattsvid', u'query': u'%23mattsvid', u'tweet_volume': 92131, u'name': u'#mattsvid', u'promoted_content': None}, {u'url': u'http://twitter.com/search?q=%23%D8%A7%D9%81%D8%AA%D9%83%D8%B1%D9%88%D9%87%D9%85', u'query': u'%23%D8%A7%D9%81%D8%AA%D9%83%D8%B1%D9%88%D9%87%D9%85', u'tweet_volume': 13664, u'name': u'#\\u0627\\u0641\\u062a\\u0643\\u0631\\u0648\\u0647\\u0645', u'promoted_content': None}, {u'url': u'http://twitter.com/search?q=%23MilanInter', u'query': u'%23MilanInter', u'tweet_volume': 102322, u'name': u'#MilanInter', u'promoted_content': None}, {u'url': u'http://twitter.com/search?q=%23%D8%A7%D8%B3%D9%85_%D8%A7%D9%84%D8%A8%D9%82%D8%A7%D9%84_%D8%A7%D9%84%D9%84%D9%8A_%D8%AA%D8%AD%D8%AA_%D8%A8%D9%8A%D8%AA%D9%83%D9%88%D8%A7', u'query': u'%23%D8%A7%D8%B3%D9%85_%D8%A7%D9%84%D8%A8%D9%82%D8%A7%D9%84_%D8%A7%D9%84%D9%84%D9%8A_%D8%AA%D8%AD%D8%AA_%D8%A8%D9%8A%D8%AA%D9%83%D9%88%D8%A7', u'tweet_volume': None, u'name': u'#\\u0627\\u0633\\u0645_\\u0627\\u0644\\u0628\\u0642\\u0627\\u0644_\\u0627\\u0644\\u0644\\u064a_\\u062a\\u062d\\u062a_\\u0628\\u064a\\u062a\\u0643\\u0648\\u0627', u'promoted_content': None}, {u'url': u'http://twitter.com/search?q=%23SebastianDM', u'query': u'%23SebastianDM', u'tweet_volume': 58788, u'name': u'#SebastianDM', u'promoted_content': None}, {u'url': u'http://twitter.com/search?q=%23janoskianators', u'query': u'%23janoskianators', u'tweet_volume': 72126, u'name': u'#janoskianators', u'promoted_content': None}, {u'url': u'http://twitter.com/search?q=%23Fantastico', u'query': u'%23Fantastico', u'tweet_volume': None, u'name': u'#Fantastico', u'promoted_content': None}, {u'url': u'http://twitter.com/search?q=%23WeLoveTroyeBecause', u'query': u'%23WeLoveTroyeBecause', u'tweet_volume': None, u'name': u'#WeLoveTroyeBecause', u'promoted_content': None}, {u'url': u'http://twitter.com/search?q=%23WorkDanceChallenge', u'query': u'%23WorkDanceChallenge', u'tweet_volume': None, u'name': u'#WorkDanceChallenge', u'promoted_content': None}, {u'url': u'http://twitter.com/search?q=%23OlmueNocheFinal', u'query': u'%23OlmueNocheFinal', u'tweet_volume': None, u'name': u'#OlmueNocheFinal', u'promoted_content': None}, {u'url': u'http://twitter.com/search?q=%23StandWithHillary', u'query': u'%23StandWithHillary', u'tweet_volume': 14445, u'name': u'#StandWithHillary', u'promoted_content': None}, {u'url': u'http://twitter.com/search?q=%23CuartoMilenio', u'query': u'%23CuartoMilenio', u'tweet_volume': None, u'name': u'#CuartoMilenio', u'promoted_content': None}, {u'url': u'http://twitter.com/search?q=%23gazebo', u'query': u'%23gazebo', u'tweet_volume': None, u'name': u'#gazebo', u'promoted_content': None}, {u'url': u'http://twitter.com/search?q=%23BNTresponde', u'query': u'%23BNTresponde', u'tweet_volume': 10316, u'name': u'#BNTresponde', u'promoted_content': None}, {u'url': u'http://twitter.com/search?q=%23NiLaCrudaDueleTantoComo', u'query': u'%23NiLaCrudaDueleTantoComo', u'tweet_volume': None, u'name': u'#NiLaCrudaDueleTantoComo', u'promoted_content': None}, {u'url': u'http://twitter.com/search?q=%23HalaMadrid', u'query': u'%23HalaMadrid', u'tweet_volume': 109734, u'name': u'#HalaMadrid', u'promoted_content': None}, {u'url': u'http://twitter.com/search?q=%23BaileDeInverno', u'query': u'%23BaileDeInverno', u'tweet_volume': 13189, u'name': u'#BaileDeInverno', u'promoted_content': None}, {u'url': u'http://twitter.com/search?q=%23MersindePKKVah%C5%9Feti', u'query': u'%23MersindePKKVah%C5%9Feti', u'tweet_volume': 61819, u'name': u'#MersindePKKVah\\u015feti', u'promoted_content': None}, {u'url': u'http://twitter.com/search?q=%23DomingoDeGanarSeguidores', u'query': u'%23DomingoDeGanarSeguidores', u'tweet_volume': 103131, u'name': u'#DomingoDeGanarSeguidores', u'promoted_content': None}, {u'url': u'http://twitter.com/search?q=%23TeamSteffanyLaura', u'query': u'%23TeamSteffanyLaura', u'tweet_volume': 37135, u'name': u'#TeamSteffanyLaura', u'promoted_content': None}, {u'url': u'http://twitter.com/search?q=%23LaVoixTVA', u'query': u'%23LaVoixTVA', u'tweet_volume': None, u'name': u'#LaVoixTVA', u'promoted_content': None}, {u'url': u'http://twitter.com/search?q=%23FailedBestManSpeeches', u'query': u'%23FailedBestManSpeeches', u'tweet_volume': None, u'name': u'#FailedBestManSpeeches', u'promoted_content': None}, {u'url': u'http://twitter.com/search?q=%23SiViciconteVaAlBailandoYo', u'query': u'%23SiViciconteVaAlBailandoYo', u'tweet_volume': 13533, u'name': u'#SiViciconteVaAlBailandoYo', u'promoted_content': None}, {u'url': u'http://twitter.com/search?q=%23FebruaryWish', u'query': u'%23FebruaryWish', u'tweet_volume': None, u'name': u'#FebruaryWish', u'promoted_content': None}, {u'url': u'http://twitter.com/search?q=%23SonraBiBak%C4%B1yosunKi', u'query': u'%23SonraBiBak%C4%B1yosunKi', u'tweet_volume': 10294, u'name': u'#SonraBiBak\\u0131yosunKi', u'promoted_content': None}, {u'url': u'http://twitter.com/search?q=%23AskGusta', u'query': u'%23AskGusta', u'tweet_volume': None, u'name': u'#AskGusta', u'promoted_content': None}, {u'url': u'http://twitter.com/search?q=%23MyIdeaOfExcitementIn5words', u'query': u'%23MyIdeaOfExcitementIn5words', u'tweet_volume': None, u'name': u'#MyIdeaOfExcitementIn5words', u'promoted_content': None}, {u'url': u'http://twitter.com/search?q=%23ontopictalkshow', u'query': u'%23ontopictalkshow', u'tweet_volume': None, u'name': u'#ontopictalkshow', u'promoted_content': None}, {u'url': u'http://twitter.com/search?q=%23osest%C3%BCrkiye', u'query': u'%23osest%C3%BCrkiye', u'tweet_volume': 32498, u'name': u'#osest\\xfcrkiye', u'promoted_content': None}, {u'url': u'http://twitter.com/search?q=%23WeLoveAwkwardPuppets', u'query': u'%23WeLoveAwkwardPuppets', u'tweet_volume': 112379, u'name': u'#WeLoveAwkwardPuppets', u'promoted_content': None}, {u'url': u'http://twitter.com/search?q=%23%D8%A7%D9%84%D9%85%D9%82%D8%A7%D9%88%D9%84_%D9%88%D8%AD%D9%81%D9%84%D9%87_%D9%81%D9%88%D9%84%D9%88%D8%B1%D8%B221k', u'query': u'%23%D8%A7%D9%84%D9%85%D9%82%D8%A7%D9%88%D9%84_%D9%88%D8%AD%D9%81%D9%84%D9%87_%D9%81%D9%88%D9%84%D9%88%D8%B1%D8%B221k', u'tweet_volume': None, u'name': u'#\\u0627\\u0644\\u0645\\u0642\\u0627\\u0648\\u0644_\\u0648\\u062d\\u0641\\u0644\\u0647_\\u0641\\u0648\\u0644\\u0648\\u0631\\u063221k', u'promoted_content': None}, {u'url': u'http://twitter.com/search?q=%23ALDUBBagsikNiMama', u'query': u'%23ALDUBBagsikNiMama', u'tweet_volume': 344565, u'name': u'#ALDUBBagsikNiMama', u'promoted_content': None}, {u'url': u'http://twitter.com/search?q=%23EntierroDelPlanColombia', u'query': u'%23EntierroDelPlanColombia', u'tweet_volume': None, u'name': u'#EntierroDelPlanColombia', u'promoted_content': None}], u'as_of': u'2016-02-01T01:27:54Z', u'locations': [{u'woeid': 1, u'name': u'Worldwide'}]}]\n",
      "\n",
      "[{u'created_at': u'2016-02-01T01:24:49Z', u'trends': [{u'url': u'http://twitter.com/search?q=%23GreaseLive', u'query': u'%23GreaseLive', u'tweet_volume': 332854, u'name': u'#GreaseLive', u'promoted_content': None}, {u'url': u'http://twitter.com/search?q=%23NHLAllStar', u'query': u'%23NHLAllStar', u'tweet_volume': 220357, u'name': u'#NHLAllStar', u'promoted_content': None}, {u'url': u'http://twitter.com/search?q=%23RHOA', u'query': u'%23RHOA', u'tweet_volume': 13177, u'name': u'#RHOA', u'promoted_content': None}, {u'url': u'http://twitter.com/search?q=%23ProBowl', u'query': u'%23ProBowl', u'tweet_volume': 80432, u'name': u'#ProBowl', u'promoted_content': None}, {u'url': u'http://twitter.com/search?q=%23CelebrationofGospel', u'query': u'%23CelebrationofGospel', u'tweet_volume': None, u'name': u'#CelebrationofGospel', u'promoted_content': None}, {u'url': u'http://twitter.com/search?q=%22Calvin+Johnson%22', u'query': u'%22Calvin+Johnson%22', u'tweet_volume': 110847, u'name': u'Calvin Johnson', u'promoted_content': None}, {u'url': u'http://twitter.com/search?q=%22Derek+Carr%22', u'query': u'%22Derek+Carr%22', u'tweet_volume': None, u'name': u'Derek Carr', u'promoted_content': None}, {u'url': u'http://twitter.com/search?q=%22Aaron+Gordon%22', u'query': u'%22Aaron+Gordon%22', u'tweet_volume': None, u'name': u'Aaron Gordon', u'promoted_content': None}, {u'url': u'http://twitter.com/search?q=%23HappyBirthdayHarryStyles', u'query': u'%23HappyBirthdayHarryStyles', u'tweet_volume': 460555, u'name': u'#HappyBirthdayHarryStyles', u'promoted_content': None}, {u'url': u'http://twitter.com/search?q=%23WeLoveTroyeBecause', u'query': u'%23WeLoveTroyeBecause', u'tweet_volume': None, u'name': u'#WeLoveTroyeBecause', u'promoted_content': None}, {u'url': u'http://twitter.com/search?q=%23StandWithHillary', u'query': u'%23StandWithHillary', u'tweet_volume': 14445, u'name': u'#StandWithHillary', u'promoted_content': None}, {u'url': u'http://twitter.com/search?q=%23FailedBestManSpeeches', u'query': u'%23FailedBestManSpeeches', u'tweet_volume': None, u'name': u'#FailedBestManSpeeches', u'promoted_content': None}, {u'url': u'http://twitter.com/search?q=%23MyIdeaOfExcitementIn5words', u'query': u'%23MyIdeaOfExcitementIn5words', u'tweet_volume': None, u'name': u'#MyIdeaOfExcitementIn5words', u'promoted_content': None}, {u'url': u'http://twitter.com/search?q=%23USMNT', u'query': u'%23USMNT', u'tweet_volume': 17763, u'name': u'#USMNT', u'promoted_content': None}, {u'url': u'http://twitter.com/search?q=%23SebastianDM', u'query': u'%23SebastianDM', u'tweet_volume': 58788, u'name': u'#SebastianDM', u'promoted_content': None}, {u'url': u'http://twitter.com/search?q=%23CrawfordCollinsSorryRemix', u'query': u'%23CrawfordCollinsSorryRemix', u'tweet_volume': 18021, u'name': u'#CrawfordCollinsSorryRemix', u'promoted_content': None}, {u'url': u'http://twitter.com/search?q=%23WorkDanceChallenge', u'query': u'%23WorkDanceChallenge', u'tweet_volume': None, u'name': u'#WorkDanceChallenge', u'promoted_content': None}, {u'url': u'http://twitter.com/search?q=%23BernieStrong', u'query': u'%23BernieStrong', u'tweet_volume': 50047, u'name': u'#BernieStrong', u'promoted_content': None}, {u'url': u'http://twitter.com/search?q=%23ThingsFoundInTheCouch', u'query': u'%23ThingsFoundInTheCouch', u'tweet_volume': None, u'name': u'#ThingsFoundInTheCouch', u'promoted_content': None}, {u'url': u'http://twitter.com/search?q=%23mattsvid', u'query': u'%23mattsvid', u'tweet_volume': 92131, u'name': u'#mattsvid', u'promoted_content': None}, {u'url': u'http://twitter.com/search?q=%23janoskianators', u'query': u'%23janoskianators', u'tweet_volume': 72126, u'name': u'#janoskianators', u'promoted_content': None}, {u'url': u'http://twitter.com/search?q=%23aclucon16', u'query': u'%23aclucon16', u'tweet_volume': None, u'name': u'#aclucon16', u'promoted_content': None}], u'as_of': u'2016-02-01T01:27:55Z', u'locations': [{u'woeid': 23424977, u'name': u'United States'}]}]\n"
     ]
    }
   ],
   "source": [
    "# The Yahoo! Where On Earth ID for the entire world is 1.\n",
    "# See https://dev.twitter.com/docs/api/1.1/get/trends/place and\n",
    "# http://developer.yahoo.com/geo/geoplanet/\n",
    "\n",
    "WORLD_WOE_ID = 1\n",
    "US_WOE_ID = 23424977\n",
    "\n",
    "# Prefix ID with the underscore for query string parameterization.\n",
    "# Without the underscore, the twitter package appends the ID value\n",
    "# to the URL itself as a special case keyword argument.\n",
    "\n",
    "world_trends = twitter_api.trends.place(_id=WORLD_WOE_ID)\n",
    "us_trends = twitter_api.trends.place(_id=US_WOE_ID)\n",
    "\n",
    "print world_trends\n",
    "print\n",
    "print us_trends"
   ]
  },
  {
   "cell_type": "code",
   "execution_count": 4,
   "metadata": {
    "collapsed": false
   },
   "outputs": [],
   "source": [
    "import tweepy\n",
    "import time"
   ]
  },
  {
   "cell_type": "markdown",
   "metadata": {},
   "source": [
    "###Report some statistics about the tweets you collected \n",
    "\n",
    "*The topic of interest: < INSERT YOUR TOPIC HERE>\n",
    "\n",
    "\n",
    "*The total number of tweets collected:  < INSERT THE NUMBER HERE>"
   ]
  },
  {
   "cell_type": "markdown",
   "metadata": {},
   "source": [
    "*-----------------------"
   ]
  },
  {
   "cell_type": "markdown",
   "metadata": {},
   "source": [
    "#Problem 2: Analyzing Tweets and Tweet Entities with Frequency Analysis\n",
    "\n",
    "**1. Word Count:** \n",
    "* Use the tweets you collected in Problem 1, and compute the frequencies of the words being used in these tweets. \n",
    "* Plot a table of the top 30 words with their counts"
   ]
  },
  {
   "cell_type": "code",
   "execution_count": 30,
   "metadata": {
    "collapsed": false
   },
   "outputs": [],
   "source": [
    "#----------------------------------------------\n",
    "# Your code starts here\n",
    "#   Please add comments or text cells in between to explain the general idea of each block of the code.\n",
    "#   Please feel free to add more cells below this cell if necessary\n",
    "\n",
    "\n",
    "\n",
    "\n",
    "\n",
    "\n",
    "\n",
    "\n",
    "\n",
    "\n",
    "\n",
    "\n",
    "\n"
   ]
  },
  {
   "cell_type": "markdown",
   "metadata": {},
   "source": [
    "**2. Find the most popular tweets in your collection of tweets**\n",
    "\n",
    "Please plot a table of the top 10 tweets that are the most popular among your collection, i.e., the tweets with the largest number of retweet counts.\n"
   ]
  },
  {
   "cell_type": "code",
   "execution_count": 31,
   "metadata": {
    "collapsed": false
   },
   "outputs": [],
   "source": [
    "#----------------------------------------------\n",
    "# Your code starts here\n",
    "#   Please add comments or text cells in between to explain the general idea of each block of the code.\n",
    "#   Please feel free to add more cells below this cell if necessary\n",
    "\n",
    "\n",
    "\n",
    "\n",
    "\n",
    "\n",
    "\n",
    "\n",
    "\n",
    "\n",
    "\n"
   ]
  },
  {
   "cell_type": "markdown",
   "metadata": {},
   "source": [
    "**3. Find the most popular Tweet Entities in your collection of tweets**\n",
    "\n",
    "Please plot a table of the top 10 hashtags, top 10 user mentions that are the most popular in your collection of tweets."
   ]
  },
  {
   "cell_type": "code",
   "execution_count": 32,
   "metadata": {
    "collapsed": false
   },
   "outputs": [],
   "source": [
    "#----------------------------------------------\n",
    "# Your code starts here\n",
    "#   Please add comments or text cells in between to explain the general idea of each block of the code.\n",
    "#   Please feel free to add more cells below this cell if necessary\n",
    "\n",
    "\n",
    "\n",
    "\n",
    "\n"
   ]
  },
  {
   "cell_type": "markdown",
   "metadata": {},
   "source": [
    "*------------------------\n",
    "\n",
    "#Problem 3: Getting \"All\" friends and \"All\" followers of a popular user in twitter\n"
   ]
  },
  {
   "cell_type": "markdown",
   "metadata": {},
   "source": [
    "* choose a popular twitter user who has many followers, such as \"ladygaga\".\n",
    "* Get the list of all friends and all followers of the twitter user.\n",
    "* Plot 20 out of the followers, plot their ID numbers and screen names in a table.\n",
    "* Plot 20 out of the friends (if the user has more than 20 friends), plot their ID numbers and screen names in a table."
   ]
  },
  {
   "cell_type": "code",
   "execution_count": 35,
   "metadata": {
    "collapsed": false
   },
   "outputs": [],
   "source": [
    "#----------------------------------------------\n",
    "# Your code starts here\n",
    "#   Please add comments or text cells in between to explain the general idea of each block of the code.\n",
    "#   Please feel free to add more cells below this cell if necessary\n",
    "\n",
    "\n",
    "\n",
    "\n",
    "\n"
   ]
  },
  {
   "cell_type": "markdown",
   "metadata": {},
   "source": [
    "* Compute the mutual friends within the two groups, i.e., the users who are in both friend list and follower list, plot their ID numbers and screen names in a table"
   ]
  },
  {
   "cell_type": "code",
   "execution_count": null,
   "metadata": {
    "collapsed": false
   },
   "outputs": [],
   "source": [
    "#----------------------------------------------\n",
    "# Your code starts here\n",
    "#   Please add comments or text cells in between to explain the general idea of each block of the code.\n",
    "#   Please feel free to add more cells below this cell if necessary\n",
    "\n",
    "\n",
    "\n",
    "\n",
    "\n",
    "\n"
   ]
  },
  {
   "cell_type": "markdown",
   "metadata": {},
   "source": [
    "*------------------------\n",
    "\n",
    "#Problem 4: Explore the data \n",
    "\n",
    "Run some additional experiments with your data to gain familiarity with the twitter data ant twitter API"
   ]
  },
  {
   "cell_type": "code",
   "execution_count": 2,
   "metadata": {
    "collapsed": false
   },
   "outputs": [],
   "source": [
    "#----------------------------------------------\n",
    "# Your code starts here\n",
    "#   Please add comments or text cells in between to explain the general idea of each block of the code.\n",
    "#   Please feel free to add more cells below this cell if necessary\n",
    "\n",
    "\n",
    "\n"
   ]
  },
  {
   "cell_type": "markdown",
   "metadata": {},
   "source": [
    "*-----------------\n",
    "# Done\n",
    "\n",
    "All set! \n",
    "\n",
    "** What do you need to submit?**\n",
    "\n",
    "* **Notebook File**: Save this IPython notebook, and find the notebook file in your folder (for example, \"filename.ipynb\"). This is the file you need to submit. Please make sure all the plotted tables and figures are in the notebook. If you used \"ipython notebook --pylab=inline\" to open the notebook, all the figures and tables should have shown up in the notebook.\n",
    "\n",
    "\n",
    "* **PPT Slides**: please prepare PPT slides (for 10 minutes' talk) to present about the case study . We will ask two teams which are randomly selected to present their case studies in class for this case study. \n",
    "\n",
    "* ** Report**: please prepare a report (less than 10 pages) to report what you found in the data.\n",
    "    * What data you collected? \n",
    "    * Why this topic is interesting or important to you? (Motivations)\n",
    "    * How did you analyse the data?\n",
    "    * What did you find in the data? \n",
    " \n",
    "     (please include figures or tables in the report, but no source code)\n",
    "\n",
    "Please compress all the files in a zipped file.\n",
    "\n",
    "\n",
    "** How to submit: **\n",
    "\n",
    "        Please submit through myWPI, in the Assignment \"Case Study 1\".\n",
    "        \n",
    "** Note: Each team just need to submit one submission in myWPI **"
   ]
  },
  {
   "cell_type": "markdown",
   "metadata": {},
   "source": [
    "# Grading Criteria:\n",
    "\n",
    "** Totoal Points: 120 **\n",
    "\n",
    "\n",
    "---------------------------------------------------------------------------\n",
    "** Notebook:  **\n",
    "    Points: 80\n",
    "\n",
    "\n",
    "    -----------------------------------\n",
    "    Qestion 1:\n",
    "    Points: 20\n",
    "    -----------------------------------\n",
    "    \n",
    "    (1) Select a topic that you are interested in.\n",
    "    Points: 6 \n",
    "    \n",
    "    (2) Use Twitter Streaming API to sample a collection of tweets about this topic in real time. (It would be recommended that the number of tweets should be larger than 200, but smaller than 1 million. Please check whether the total number of tweets collected is larger than 200?\n",
    "    Points: 10 \n",
    "    \n",
    "    \n",
    "    (3) Store the tweets you downloaded into a local file (txt file or json file)\n",
    "    Points: 4 \n",
    "    \n",
    "    \n",
    "    -----------------------------------\n",
    "    Qestion 2:\n",
    "    Points: 20\n",
    "    -----------------------------------\n",
    "    \n",
    "    1. Word Count\n",
    "\n",
    "    (1) Use the tweets you collected in Problem 1, and compute the frequencies of the words being used in these tweets.\n",
    "    Points: 4 \n",
    "\n",
    "    (2) Plot a table of the top 30 words with their counts \n",
    "    Points: 4 \n",
    "    \n",
    "    2. Find the most popular tweets in your collection of tweets\n",
    "    plot a table of the top 10 tweets that are the most popular among your collection, i.e., the tweets with the largest number of retweet counts.\n",
    "    Points: 4 \n",
    "    \n",
    "    3. Find the most popular Tweet Entities in your collection of tweets\n",
    "\n",
    "    (1) plot a table of the top 10 hashtags, \n",
    "    Points: 4 \n",
    "\n",
    "    (2) top 10 user mentions that are the most popular in your collection of tweets.\n",
    "    Points: 4 \n",
    "    \n",
    "    \n",
    "    -----------------------------------\n",
    "    Qestion 3:\n",
    "    Points: 20\n",
    "    -----------------------------------\n",
    "    \n",
    "    (1) choose a popular twitter user who has many followers, such as \"ladygaga\".\n",
    "    Points: 4 \n",
    "\n",
    "    (2) Get the list of all friends and all followers of the twitter user.\n",
    "    Points: 4 \n",
    "\n",
    "    (3) Plot 20 out of the followers, plot their ID numbers and screen names in a table.\n",
    "    Points: 4 \n",
    "\n",
    "    (4) Plot 20 out of the friends (if the user has more than 20 friends), plot their ID numbers and screen names in a table.\n",
    "    Points: 4 \n",
    "    \n",
    "    (5) Compute the mutual friends within the two groups, i.e., the users who are in both friend list and follower list, plot their ID numbers and screen names in a table\n",
    "    Points: 4 \n",
    "  \n",
    "    -----------------------------------\n",
    "    Qestion 4:  Explore the data\n",
    "    Points: 20\n",
    "    -----------------------------------\n",
    "        Novelty: 10\n",
    "        Interestingness: 10\n",
    "    -----------------------------------\n",
    "    Run some additional experiments with your data to gain familiarity with the twitter data ant twitter API\n",
    "\n",
    "\n",
    "\n",
    "\n",
    "---------------------------------------------------------------------------\n",
    "** Report: communicate the results**\n",
    "    Points: 20\n",
    "\n",
    "(1) What data you collected?\n",
    "    Points: 5 \n",
    "\n",
    "(2) Why this topic is interesting or important to you? (Motivations)\n",
    "    Points: 5 \n",
    "\n",
    "(3) How did you analyse the data?\n",
    "    Points: 5 \n",
    "\n",
    "(4) What did you find in the data?\n",
    "(please include figures or tables in the report, but no source code)\n",
    "    Points: 5 \n",
    "\n",
    "\n",
    "\n",
    "---------------------------------------------------------------------------\n",
    "** Slides (for 10 minutes of presentation): Story-telling **\n",
    "    Points: 20\n",
    "\n",
    "\n",
    "1. Motivation about the data collection, why the topic is interesting to you.\n",
    "    Points: 5 \n",
    "\n",
    "2. Communicating Results (figure/table)\n",
    "    Points: 10 \n",
    "\n",
    "3. Story telling (How all the parts (data, analysis, result) fit together as a story?)\n",
    "    Points: 5 \n",
    "\n"
   ]
  },
  {
   "cell_type": "code",
   "execution_count": null,
   "metadata": {
    "collapsed": false
   },
   "outputs": [],
   "source": []
  }
 ],
 "metadata": {
  "kernelspec": {
   "display_name": "Python 2",
   "language": "python",
   "name": "python2"
  },
  "language_info": {
   "codemirror_mode": {
    "name": "ipython",
    "version": 2
   },
   "file_extension": ".py",
   "mimetype": "text/x-python",
   "name": "python",
   "nbconvert_exporter": "python",
   "pygments_lexer": "ipython2",
   "version": "2.7.10"
  }
 },
 "nbformat": 4,
 "nbformat_minor": 0
}
